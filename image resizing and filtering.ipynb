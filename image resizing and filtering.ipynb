{
 "cells": [
  {
   "cell_type": "code",
   "execution_count": null,
   "metadata": {},
   "outputs": [],
   "source": [
    "import cv2\n",
    "import glob\n",
    "import os\n",
    "\n",
    "li=[x for x in os.walk(\"C:\\\\Users\\\\Mukul\\\\v_data\\\\train1\")]\n",
    "\n",
    "for x in li[0][1]:\n",
    "    st =\"C:\\\\Users\\\\Mukul\\\\v_data\\\\train1\\\\\"+x+\"\\\\*\"\n",
    "    images = [cv2.imread(file) for file in glob.glob(st)]\n",
    "    for i in range(len(images)):\n",
    "        images[i]= cv2.resize(images[i],(200,200))\n",
    "\n",
    "    di=\"C:\\\\Users\\\\Mukul\\\\v_data\\\\train11\\\\\"+x +\"\\\\\"+x \n",
    "\n",
    "    for i in range(len(images)):\n",
    "        cv2.imwrite(di+str(i)+\".jpg\",images[i])\n",
    "\n",
    "li = [x for x in os.walk(\"C:\\\\Users\\\\Mukul\\\\v_data\\\\test1\")]\n",
    "try:\n",
    "    for x in li[0][1]:\n",
    "        st =\"C:\\\\Users\\\\Mukul\\\\v_data\\\\test1\\\\\"+x+\"\\\\*\"\n",
    "        images = [cv2.imread(file) for file in glob.glob(st)]\n",
    "        for i in range(len(images)):\n",
    "            #print(x, \" \",i)\n",
    "            images[i]= cv2.resize(images[i],(100,100))\n",
    "\n",
    "        di=\"C:\\\\Users\\\\Mukul\\\\v_data\\\\test11\\\\\"+x +\"\\\\\"+x \n",
    "\n",
    "        for i in range(len(images)):\n",
    "            cv2.imwrite(di+str(i)+\".jpg\",images[i])\n",
    "except Exception as e:\n",
    "    print(str(e))"
   ]
  }
 ],
 "metadata": {
  "kernelspec": {
   "display_name": "Python 3",
   "language": "python",
   "name": "python3"
  },
  "language_info": {
   "codemirror_mode": {
    "name": "ipython",
    "version": 3
   },
   "file_extension": ".py",
   "mimetype": "text/x-python",
   "name": "python",
   "nbconvert_exporter": "python",
   "pygments_lexer": "ipython3",
   "version": "3.6.5"
  }
 },
 "nbformat": 4,
 "nbformat_minor": 2
}
